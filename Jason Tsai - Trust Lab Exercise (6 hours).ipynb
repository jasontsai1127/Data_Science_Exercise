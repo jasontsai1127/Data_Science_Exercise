{
 "cells": [
  {
   "cell_type": "markdown",
   "id": "01a1b38b",
   "metadata": {},
   "source": [
    "# Jason Tsai"
   ]
  },
  {
   "cell_type": "code",
   "execution_count": 274,
   "id": "d3bced76",
   "metadata": {},
   "outputs": [],
   "source": [
    "import pandas as pd\n",
    "import numpy as np\n",
    "import matplotlib.pyplot as plt\n",
    "import os"
   ]
  },
  {
   "cell_type": "code",
   "execution_count": 275,
   "id": "e7535699",
   "metadata": {},
   "outputs": [
    {
     "data": {
      "text/plain": [
       "'C:\\\\Users\\\\Home\\\\Desktop'"
      ]
     },
     "execution_count": 275,
     "metadata": {},
     "output_type": "execute_result"
    }
   ],
   "source": [
    "os.getcwd()"
   ]
  },
  {
   "cell_type": "code",
   "execution_count": 276,
   "id": "c5020191",
   "metadata": {
    "scrolled": true
   },
   "outputs": [
    {
     "data": {
      "text/html": [
       "<div>\n",
       "<style scoped>\n",
       "    .dataframe tbody tr th:only-of-type {\n",
       "        vertical-align: middle;\n",
       "    }\n",
       "\n",
       "    .dataframe tbody tr th {\n",
       "        vertical-align: top;\n",
       "    }\n",
       "\n",
       "    .dataframe thead th {\n",
       "        text-align: right;\n",
       "    }\n",
       "</style>\n",
       "<table border=\"1\" class=\"dataframe\">\n",
       "  <thead>\n",
       "    <tr style=\"text-align: right;\">\n",
       "      <th></th>\n",
       "      <th>Specimen Collection Date</th>\n",
       "      <th>Characteristic Type</th>\n",
       "      <th>Characteristic Group</th>\n",
       "      <th>Characteristic Group Sort Order</th>\n",
       "      <th>New Cases</th>\n",
       "      <th>Cumulative Cases</th>\n",
       "      <th>Population Estimate</th>\n",
       "      <th>Data As Of</th>\n",
       "      <th>Data Loaded At</th>\n",
       "    </tr>\n",
       "  </thead>\n",
       "  <tbody>\n",
       "    <tr>\n",
       "      <th>0</th>\n",
       "      <td>03/03/2020 12:00:00 AM</td>\n",
       "      <td>Age Group</td>\n",
       "      <td>0-4</td>\n",
       "      <td>1</td>\n",
       "      <td>NaN</td>\n",
       "      <td>NaN</td>\n",
       "      <td>39353.0</td>\n",
       "      <td>08/10/2021 04:30:02 PM</td>\n",
       "      <td>08/11/2021 09:01:36 AM</td>\n",
       "    </tr>\n",
       "    <tr>\n",
       "      <th>1</th>\n",
       "      <td>03/03/2020 12:00:00 AM</td>\n",
       "      <td>Age Group</td>\n",
       "      <td>5-10</td>\n",
       "      <td>2</td>\n",
       "      <td>NaN</td>\n",
       "      <td>NaN</td>\n",
       "      <td>38089.0</td>\n",
       "      <td>08/10/2021 04:30:02 PM</td>\n",
       "      <td>08/11/2021 09:01:38 AM</td>\n",
       "    </tr>\n",
       "    <tr>\n",
       "      <th>2</th>\n",
       "      <td>03/03/2020 12:00:00 AM</td>\n",
       "      <td>Age Group</td>\n",
       "      <td>11-13</td>\n",
       "      <td>3</td>\n",
       "      <td>NaN</td>\n",
       "      <td>NaN</td>\n",
       "      <td>17896.0</td>\n",
       "      <td>08/10/2021 04:30:02 PM</td>\n",
       "      <td>08/11/2021 09:01:36 AM</td>\n",
       "    </tr>\n",
       "    <tr>\n",
       "      <th>3</th>\n",
       "      <td>03/03/2020 12:00:00 AM</td>\n",
       "      <td>Age Group</td>\n",
       "      <td>14-17</td>\n",
       "      <td>4</td>\n",
       "      <td>NaN</td>\n",
       "      <td>NaN</td>\n",
       "      <td>22832.0</td>\n",
       "      <td>08/10/2021 04:30:02 PM</td>\n",
       "      <td>08/11/2021 09:01:36 AM</td>\n",
       "    </tr>\n",
       "    <tr>\n",
       "      <th>4</th>\n",
       "      <td>03/03/2020 12:00:00 AM</td>\n",
       "      <td>Age Group</td>\n",
       "      <td>18-20</td>\n",
       "      <td>5</td>\n",
       "      <td>NaN</td>\n",
       "      <td>NaN</td>\n",
       "      <td>20407.0</td>\n",
       "      <td>08/10/2021 04:30:02 PM</td>\n",
       "      <td>08/11/2021 09:01:36 AM</td>\n",
       "    </tr>\n",
       "  </tbody>\n",
       "</table>\n",
       "</div>"
      ],
      "text/plain": [
       "  Specimen Collection Date Characteristic Type Characteristic Group  \\\n",
       "0   03/03/2020 12:00:00 AM           Age Group                  0-4   \n",
       "1   03/03/2020 12:00:00 AM           Age Group                 5-10   \n",
       "2   03/03/2020 12:00:00 AM           Age Group                11-13   \n",
       "3   03/03/2020 12:00:00 AM           Age Group                14-17   \n",
       "4   03/03/2020 12:00:00 AM           Age Group                18-20   \n",
       "\n",
       "   Characteristic Group Sort Order  New Cases  Cumulative Cases  \\\n",
       "0                                1        NaN               NaN   \n",
       "1                                2        NaN               NaN   \n",
       "2                                3        NaN               NaN   \n",
       "3                                4        NaN               NaN   \n",
       "4                                5        NaN               NaN   \n",
       "\n",
       "   Population Estimate              Data As Of          Data Loaded At  \n",
       "0              39353.0  08/10/2021 04:30:02 PM  08/11/2021 09:01:36 AM  \n",
       "1              38089.0  08/10/2021 04:30:02 PM  08/11/2021 09:01:38 AM  \n",
       "2              17896.0  08/10/2021 04:30:02 PM  08/11/2021 09:01:36 AM  \n",
       "3              22832.0  08/10/2021 04:30:02 PM  08/11/2021 09:01:36 AM  \n",
       "4              20407.0  08/10/2021 04:30:02 PM  08/11/2021 09:01:36 AM  "
      ]
     },
     "execution_count": 276,
     "metadata": {},
     "output_type": "execute_result"
    }
   ],
   "source": [
    "data = pd.read_csv(\"C:\\\\Users\\\\Home\\\\Desktop\\\\covid_pop_char.csv\")\n",
    "data.head()"
   ]
  },
  {
   "cell_type": "code",
   "execution_count": 277,
   "id": "3783b560",
   "metadata": {
    "scrolled": true
   },
   "outputs": [
    {
     "data": {
      "text/plain": [
       "array(['0-4', '5-10', '11-13', '14-17', '18-20', '21-24', '25-29',\n",
       "       '30-39', '40-49', '50-59', '60-69', '70-79', '80+', 'Unknown',\n",
       "       'None', 'One or More', 'Female', 'Male', 'Trans Female',\n",
       "       'Trans Male', 'Other', 'Homeless', 'Not Homeless', 'Asian',\n",
       "       'Black or African American', 'Hispanic or Latino/a, all races',\n",
       "       'Native American', 'Native Hawaiian or Other Pacific Islander',\n",
       "       'White', 'Multi-racial', 'Bisexual', 'Gay or Lesbian',\n",
       "       'Heterosexual', 'Declined', 'Unsure',\n",
       "       'Single Room Occupancy Tenant',\n",
       "       'Not a Single Room Occupancy Tenant',\n",
       "       'Skilled Nursing Facility Occupant',\n",
       "       'Not a Skilled Nursing Facility Occupant', 'Community',\n",
       "       'From Contact'], dtype=object)"
      ]
     },
     "execution_count": 277,
     "metadata": {},
     "output_type": "execute_result"
    }
   ],
   "source": [
    "data['Characteristic Group'].unique()"
   ]
  },
  {
   "cell_type": "code",
   "execution_count": 278,
   "id": "4d148d50",
   "metadata": {},
   "outputs": [
    {
     "data": {
      "text/html": [
       "<div>\n",
       "<style scoped>\n",
       "    .dataframe tbody tr th:only-of-type {\n",
       "        vertical-align: middle;\n",
       "    }\n",
       "\n",
       "    .dataframe tbody tr th {\n",
       "        vertical-align: top;\n",
       "    }\n",
       "\n",
       "    .dataframe thead th {\n",
       "        text-align: right;\n",
       "    }\n",
       "</style>\n",
       "<table border=\"1\" class=\"dataframe\">\n",
       "  <thead>\n",
       "    <tr style=\"text-align: right;\">\n",
       "      <th></th>\n",
       "      <th>Specimen Collection Date</th>\n",
       "      <th>Characteristic Type</th>\n",
       "      <th>Characteristic Group</th>\n",
       "      <th>Characteristic Group Sort Order</th>\n",
       "      <th>New Cases</th>\n",
       "      <th>Cumulative Cases</th>\n",
       "      <th>Population Estimate</th>\n",
       "      <th>Data As Of</th>\n",
       "      <th>Data Loaded At</th>\n",
       "    </tr>\n",
       "  </thead>\n",
       "  <tbody>\n",
       "    <tr>\n",
       "      <th>25</th>\n",
       "      <td>03/03/2020 12:00:00 AM</td>\n",
       "      <td>Race/Ethnicity</td>\n",
       "      <td>Asian</td>\n",
       "      <td>1</td>\n",
       "      <td>NaN</td>\n",
       "      <td>NaN</td>\n",
       "      <td>298108.0</td>\n",
       "      <td>08/10/2021 04:30:02 PM</td>\n",
       "      <td>08/11/2021 09:01:49 AM</td>\n",
       "    </tr>\n",
       "    <tr>\n",
       "      <th>26</th>\n",
       "      <td>03/03/2020 12:00:00 AM</td>\n",
       "      <td>Race/Ethnicity</td>\n",
       "      <td>Black or African American</td>\n",
       "      <td>2</td>\n",
       "      <td>NaN</td>\n",
       "      <td>NaN</td>\n",
       "      <td>43782.0</td>\n",
       "      <td>08/10/2021 04:30:02 PM</td>\n",
       "      <td>08/11/2021 09:01:52 AM</td>\n",
       "    </tr>\n",
       "    <tr>\n",
       "      <th>27</th>\n",
       "      <td>03/03/2020 12:00:00 AM</td>\n",
       "      <td>Race/Ethnicity</td>\n",
       "      <td>Hispanic or Latino/a, all races</td>\n",
       "      <td>3</td>\n",
       "      <td>NaN</td>\n",
       "      <td>NaN</td>\n",
       "      <td>133314.0</td>\n",
       "      <td>08/10/2021 04:30:02 PM</td>\n",
       "      <td>08/11/2021 09:01:51 AM</td>\n",
       "    </tr>\n",
       "    <tr>\n",
       "      <th>28</th>\n",
       "      <td>03/03/2020 12:00:00 AM</td>\n",
       "      <td>Race/Ethnicity</td>\n",
       "      <td>Native American</td>\n",
       "      <td>4</td>\n",
       "      <td>NaN</td>\n",
       "      <td>NaN</td>\n",
       "      <td>1634.0</td>\n",
       "      <td>08/10/2021 04:30:02 PM</td>\n",
       "      <td>08/11/2021 09:01:54 AM</td>\n",
       "    </tr>\n",
       "    <tr>\n",
       "      <th>29</th>\n",
       "      <td>03/03/2020 12:00:00 AM</td>\n",
       "      <td>Race/Ethnicity</td>\n",
       "      <td>Native Hawaiian or Other Pacific Islander</td>\n",
       "      <td>5</td>\n",
       "      <td>NaN</td>\n",
       "      <td>NaN</td>\n",
       "      <td>2934.0</td>\n",
       "      <td>08/10/2021 04:30:02 PM</td>\n",
       "      <td>08/11/2021 09:02:06 AM</td>\n",
       "    </tr>\n",
       "    <tr>\n",
       "      <th>...</th>\n",
       "      <td>...</td>\n",
       "      <td>...</td>\n",
       "      <td>...</td>\n",
       "      <td>...</td>\n",
       "      <td>...</td>\n",
       "      <td>...</td>\n",
       "      <td>...</td>\n",
       "      <td>...</td>\n",
       "      <td>...</td>\n",
       "    </tr>\n",
       "    <tr>\n",
       "      <th>25034</th>\n",
       "      <td>08/06/2021 12:00:00 AM</td>\n",
       "      <td>Race/Ethnicity</td>\n",
       "      <td>Black or African American</td>\n",
       "      <td>2</td>\n",
       "      <td>23.0</td>\n",
       "      <td>3145.0</td>\n",
       "      <td>43782.0</td>\n",
       "      <td>08/10/2021 04:30:02 PM</td>\n",
       "      <td>08/11/2021 09:01:54 AM</td>\n",
       "    </tr>\n",
       "    <tr>\n",
       "      <th>25035</th>\n",
       "      <td>08/06/2021 12:00:00 AM</td>\n",
       "      <td>Race/Ethnicity</td>\n",
       "      <td>Hispanic or Latino/a, all races</td>\n",
       "      <td>3</td>\n",
       "      <td>49.0</td>\n",
       "      <td>16313.0</td>\n",
       "      <td>133314.0</td>\n",
       "      <td>08/10/2021 04:30:02 PM</td>\n",
       "      <td>08/11/2021 09:01:53 AM</td>\n",
       "    </tr>\n",
       "    <tr>\n",
       "      <th>25036</th>\n",
       "      <td>08/06/2021 12:00:00 AM</td>\n",
       "      <td>Race/Ethnicity</td>\n",
       "      <td>Native American</td>\n",
       "      <td>4</td>\n",
       "      <td>0.0</td>\n",
       "      <td>137.0</td>\n",
       "      <td>1634.0</td>\n",
       "      <td>08/10/2021 04:30:02 PM</td>\n",
       "      <td>08/11/2021 09:01:55 AM</td>\n",
       "    </tr>\n",
       "    <tr>\n",
       "      <th>25037</th>\n",
       "      <td>08/06/2021 12:00:00 AM</td>\n",
       "      <td>Race/Ethnicity</td>\n",
       "      <td>Native Hawaiian or Other Pacific Islander</td>\n",
       "      <td>5</td>\n",
       "      <td>1.0</td>\n",
       "      <td>531.0</td>\n",
       "      <td>2934.0</td>\n",
       "      <td>08/10/2021 04:30:02 PM</td>\n",
       "      <td>08/11/2021 09:02:06 AM</td>\n",
       "    </tr>\n",
       "    <tr>\n",
       "      <th>25038</th>\n",
       "      <td>08/06/2021 12:00:00 AM</td>\n",
       "      <td>Race/Ethnicity</td>\n",
       "      <td>White</td>\n",
       "      <td>6</td>\n",
       "      <td>64.0</td>\n",
       "      <td>10568.0</td>\n",
       "      <td>354423.0</td>\n",
       "      <td>08/10/2021 04:30:02 PM</td>\n",
       "      <td>08/11/2021 09:01:54 AM</td>\n",
       "    </tr>\n",
       "  </tbody>\n",
       "</table>\n",
       "<p>3132 rows × 9 columns</p>\n",
       "</div>"
      ],
      "text/plain": [
       "      Specimen Collection Date Characteristic Type  \\\n",
       "25      03/03/2020 12:00:00 AM      Race/Ethnicity   \n",
       "26      03/03/2020 12:00:00 AM      Race/Ethnicity   \n",
       "27      03/03/2020 12:00:00 AM      Race/Ethnicity   \n",
       "28      03/03/2020 12:00:00 AM      Race/Ethnicity   \n",
       "29      03/03/2020 12:00:00 AM      Race/Ethnicity   \n",
       "...                        ...                 ...   \n",
       "25034   08/06/2021 12:00:00 AM      Race/Ethnicity   \n",
       "25035   08/06/2021 12:00:00 AM      Race/Ethnicity   \n",
       "25036   08/06/2021 12:00:00 AM      Race/Ethnicity   \n",
       "25037   08/06/2021 12:00:00 AM      Race/Ethnicity   \n",
       "25038   08/06/2021 12:00:00 AM      Race/Ethnicity   \n",
       "\n",
       "                            Characteristic Group  \\\n",
       "25                                         Asian   \n",
       "26                     Black or African American   \n",
       "27               Hispanic or Latino/a, all races   \n",
       "28                               Native American   \n",
       "29     Native Hawaiian or Other Pacific Islander   \n",
       "...                                          ...   \n",
       "25034                  Black or African American   \n",
       "25035            Hispanic or Latino/a, all races   \n",
       "25036                            Native American   \n",
       "25037  Native Hawaiian or Other Pacific Islander   \n",
       "25038                                      White   \n",
       "\n",
       "       Characteristic Group Sort Order  New Cases  Cumulative Cases  \\\n",
       "25                                   1        NaN               NaN   \n",
       "26                                   2        NaN               NaN   \n",
       "27                                   3        NaN               NaN   \n",
       "28                                   4        NaN               NaN   \n",
       "29                                   5        NaN               NaN   \n",
       "...                                ...        ...               ...   \n",
       "25034                                2       23.0            3145.0   \n",
       "25035                                3       49.0           16313.0   \n",
       "25036                                4        0.0             137.0   \n",
       "25037                                5        1.0             531.0   \n",
       "25038                                6       64.0           10568.0   \n",
       "\n",
       "       Population Estimate              Data As Of          Data Loaded At  \n",
       "25                298108.0  08/10/2021 04:30:02 PM  08/11/2021 09:01:49 AM  \n",
       "26                 43782.0  08/10/2021 04:30:02 PM  08/11/2021 09:01:52 AM  \n",
       "27                133314.0  08/10/2021 04:30:02 PM  08/11/2021 09:01:51 AM  \n",
       "28                  1634.0  08/10/2021 04:30:02 PM  08/11/2021 09:01:54 AM  \n",
       "29                  2934.0  08/10/2021 04:30:02 PM  08/11/2021 09:02:06 AM  \n",
       "...                    ...                     ...                     ...  \n",
       "25034              43782.0  08/10/2021 04:30:02 PM  08/11/2021 09:01:54 AM  \n",
       "25035             133314.0  08/10/2021 04:30:02 PM  08/11/2021 09:01:53 AM  \n",
       "25036               1634.0  08/10/2021 04:30:02 PM  08/11/2021 09:01:55 AM  \n",
       "25037               2934.0  08/10/2021 04:30:02 PM  08/11/2021 09:02:06 AM  \n",
       "25038             354423.0  08/10/2021 04:30:02 PM  08/11/2021 09:01:54 AM  \n",
       "\n",
       "[3132 rows x 9 columns]"
      ]
     },
     "execution_count": 278,
     "metadata": {},
     "output_type": "execute_result"
    }
   ],
   "source": [
    "race = data[(data[\"Characteristic Group\"] == \"Black or African American\") | (data[\"Characteristic Group\"] == \"Asian\") | (data[\"Characteristic Group\"] == \"Hispanic or Latino/a, all races\") | (data[\"Characteristic Group\"] == \"White\") | (data[\"Characteristic Group\"] == \"Native American\") | (data[\"Characteristic Group\"] == \"Native Hawaiian or Other Pacific Islander\")]\n",
    "race"
   ]
  },
  {
   "cell_type": "code",
   "execution_count": 279,
   "id": "fa9e18df",
   "metadata": {},
   "outputs": [],
   "source": [
    "df = race.rename(columns={'Characteristic Group': 'race'}, index={'ONE': 'Row_1'})"
   ]
  },
  {
   "cell_type": "code",
   "execution_count": 280,
   "id": "fe4557d5",
   "metadata": {},
   "outputs": [
    {
     "data": {
      "text/plain": [
       "array([  5.,   0.,   4.,   1.,   3.,   2.,   6.,   8.,  21.,  12.,  10.,\n",
       "         9.,   7.,  13.,  14.,  15.,  11.,  18.,  16.,  20.,  32.,  23.,\n",
       "        26.,  22.,  19.,  52.,  25.,  31.,  35.,  28.,  17.,  29.,  27.,\n",
       "        34.,  33.,  24.,  44.,  38.,  36.,  45.,  40.,  48.,  37.,  39.,\n",
       "        47.,  63.,  46.,  72.,  81.,  64.,  78.,  85.,  65.,  75.,  67.,\n",
       "        61.,  62.,  42.,  54.,  70.,  53.,  87.,  66.,  82.,  57.,  60.,\n",
       "        30.,  50.,  41.,  49.,  55.,  68.,  74.,  51.,  77.,  59.,  56.,\n",
       "        43.,  79., 103., 121.,  58., 114., 130., 100.,  76.,  69., 116.,\n",
       "       138., 105., 152.,  99.,  95., 122., 142., 108.,  84., 132., 133.,\n",
       "       115.,  97.,  83., 168.,  98., 166., 107., 147., 118.,  73., 112.,\n",
       "       125., 204., 159.,  86., 174., 151.,  91.,  96., 129.,  89., 145.,\n",
       "       113., 101.,  88., 123.,  71.,  92., 164.,  80., 167., 109., 104.])"
      ]
     },
     "execution_count": 280,
     "metadata": {},
     "output_type": "execute_result"
    }
   ],
   "source": [
    "# clean out nulls\n",
    "df = df[df[\"New Cases\"].notnull()]\n",
    "df[\"New Cases\"].unique()"
   ]
  },
  {
   "cell_type": "code",
   "execution_count": 281,
   "id": "b5a60ef0",
   "metadata": {},
   "outputs": [
    {
     "data": {
      "text/html": [
       "<div>\n",
       "<style scoped>\n",
       "    .dataframe tbody tr th:only-of-type {\n",
       "        vertical-align: middle;\n",
       "    }\n",
       "\n",
       "    .dataframe tbody tr th {\n",
       "        vertical-align: top;\n",
       "    }\n",
       "\n",
       "    .dataframe thead th {\n",
       "        text-align: right;\n",
       "    }\n",
       "</style>\n",
       "<table border=\"1\" class=\"dataframe\">\n",
       "  <thead>\n",
       "    <tr style=\"text-align: right;\">\n",
       "      <th></th>\n",
       "      <th>New Cases</th>\n",
       "    </tr>\n",
       "    <tr>\n",
       "      <th>race</th>\n",
       "      <th></th>\n",
       "    </tr>\n",
       "  </thead>\n",
       "  <tbody>\n",
       "    <tr>\n",
       "      <th>Asian</th>\n",
       "      <td>7707.0</td>\n",
       "    </tr>\n",
       "    <tr>\n",
       "      <th>Black or African American</th>\n",
       "      <td>3141.0</td>\n",
       "    </tr>\n",
       "    <tr>\n",
       "      <th>Hispanic or Latino/a, all races</th>\n",
       "      <td>16312.0</td>\n",
       "    </tr>\n",
       "    <tr>\n",
       "      <th>Native American</th>\n",
       "      <td>135.0</td>\n",
       "    </tr>\n",
       "    <tr>\n",
       "      <th>Native Hawaiian or Other Pacific Islander</th>\n",
       "      <td>527.0</td>\n",
       "    </tr>\n",
       "    <tr>\n",
       "      <th>White</th>\n",
       "      <td>10564.0</td>\n",
       "    </tr>\n",
       "  </tbody>\n",
       "</table>\n",
       "</div>"
      ],
      "text/plain": [
       "                                           New Cases\n",
       "race                                                \n",
       "Asian                                         7707.0\n",
       "Black or African American                     3141.0\n",
       "Hispanic or Latino/a, all races              16312.0\n",
       "Native American                                135.0\n",
       "Native Hawaiian or Other Pacific Islander      527.0\n",
       "White                                        10564.0"
      ]
     },
     "execution_count": 281,
     "metadata": {},
     "output_type": "execute_result"
    }
   ],
   "source": [
    "new_df = df.groupby('race')[\"New Cases\"].sum()\n",
    "new_df = pd.DataFrame(new_df)\n",
    "new_df"
   ]
  },
  {
   "cell_type": "code",
   "execution_count": 282,
   "id": "3be0f61e",
   "metadata": {
    "scrolled": false
   },
   "outputs": [
    {
     "data": {
      "text/plain": [
       "Text(0.5, 1.0, 'Looking at New Cases by race')"
      ]
     },
     "execution_count": 282,
     "metadata": {},
     "output_type": "execute_result"
    },
    {
     "data": {
      "image/png": "[encoded data removed]",
      "text/plain": [
       "<Figure size 432x288 with 1 Axes>"
      ]
     },
     "metadata": {
      "needs_background": "light"
     },
     "output_type": "display_data"
    }
   ],
   "source": [
    "plt.barh(df.race, df[\"New Cases\"], color = \"green\")\n",
    "plt.gca().spines['right'].set_visible(False)\n",
    "plt.gca().spines['top'].set_visible(False)\n",
    "plt.xlabel(\"new cases\")\n",
    "plt.ylabel(\"race\")\n",
    "plt.title(\"Looking at New Cases by race\")"
   ]
  },
  {
   "cell_type": "markdown",
   "id": "b5f10da8",
   "metadata": {},
   "source": [
    "### Insight\n",
    "* Hispanic or Latino/a races have experienced the most new covid cases far greater than any other races of over 200 cases from 2020-2021 followed by White and Asian groups as the second and third highest cases respectively"
   ]
  },
  {
   "cell_type": "code",
   "execution_count": 283,
   "id": "c7bdb638",
   "metadata": {},
   "outputs": [],
   "source": [
    "df[\"Specimen Collection Date\"] = df[\"Specimen Collection Date\"].str.slice(0,10)\n",
    "df[\"Specimen Collection Date\"] = pd.to_datetime(df[\"Specimen Collection Date\"])"
   ]
  },
  {
   "cell_type": "code",
   "execution_count": 284,
   "id": "d7699327",
   "metadata": {},
   "outputs": [],
   "source": [
    "start = pd.to_datetime('2021-01-01')\n",
    "year20 = df[df[\"Specimen Collection Date\"] < start]\n",
    "year21 = df[df[\"Specimen Collection Date\"] >= start]"
   ]
  },
  {
   "cell_type": "code",
   "execution_count": 294,
   "id": "bde6031f",
   "metadata": {},
   "outputs": [
    {
     "data": {
      "image/png": "[encoded data removed]",
      "text/plain": [
       "<Figure size 432x288 with 1 Axes>"
      ]
     },
     "metadata": {
      "needs_background": "light"
     },
     "output_type": "display_data"
    },
    {
     "data": {
      "image/png": "[encoded data removed]",
      "text/plain": [
       "<Figure size 432x288 with 1 Axes>"
      ]
     },
     "metadata": {
      "needs_background": "light"
     },
     "output_type": "display_data"
    },
    {
     "data": {
      "image/png": "[encoded data removed]",
      "text/plain": [
       "<Figure size 432x288 with 1 Axes>"
      ]
     },
     "metadata": {
      "needs_background": "light"
     },
     "output_type": "display_data"
    }
   ],
   "source": [
    "year20.plot(x = 'Specimen Collection Date', y = 'Cumulative Cases', label = '2020', kind = \"line\", color = \"green\")\n",
    "plt.title(\"Date vs Cumulative Cases\")\n",
    "plt.gca().spines['right'].set_visible(False)\n",
    "plt.gca().spines['top'].set_visible(False)\n",
    "plt.ylabel(\"Cumulative cases\")\n",
    "\n",
    "year21.plot(x = 'Specimen Collection Date', y = 'Cumulative Cases', label = '2021', kind = \"line\", color = \"purple\")\n",
    "plt.title(\"Date vs Cumulative Cases\")\n",
    "plt.gca().spines['right'].set_visible(False)\n",
    "plt.gca().spines['top'].set_visible(False)\n",
    "plt.ylabel(\"Cumulative cases\")\n",
    "\n",
    "ax = year20.plot(x = \"Specimen Collection Date\", y = 'Cumulative Cases', label = '2020', kind = 'line')\n",
    "ax.set_ylabel(\"Culmulative Cases\")\n",
    "year21.plot(x = 'Specimen Collection Date', y = 'Cumulative Cases', label = '2021', ax = ax, kind = 'line')\n",
    "plt.title(\"Date vs Cumulative Cases\")\n",
    "plt.gca().spines['right'].set_visible(False)\n",
    "plt.gca().spines['top'].set_visible(False)"
   ]
  },
  {
   "cell_type": "markdown",
   "id": "f212c43c",
   "metadata": {},
   "source": [
    "### Insight\n",
    "* Comparing 2020 to 2021, 2020 has a much steeper slope from the beginning to end compared to 2021 which makes sense because of the increase in vaccine supply and medical advancements allowing for cumulative cases to be more controlled even though there are more cumulative cases in 2021 than 2020."
   ]
  },
  {
   "cell_type": "code",
   "execution_count": 295,
   "id": "8621e17b",
   "metadata": {
    "scrolled": false
   },
   "outputs": [
    {
     "data": {
      "image/png": "[encoded data removed]",
      "text/plain": [
       "<Figure size 432x288 with 1 Axes>"
      ]
     },
     "metadata": {
      "needs_background": "light"
     },
     "output_type": "display_data"
    },
    {
     "data": {
      "image/png": "[encoded data removed]",
      "text/plain": [
       "<Figure size 432x288 with 1 Axes>"
      ]
     },
     "metadata": {
      "needs_background": "light"
     },
     "output_type": "display_data"
    },
    {
     "data": {
      "image/png": "[encoded data removed]",
      "text/plain": [
       "<Figure size 432x288 with 1 Axes>"
      ]
     },
     "metadata": {
      "needs_background": "light"
     },
     "output_type": "display_data"
    },
    {
     "data": {
      "image/png": "[encoded data removed]",
      "text/plain": [
       "<Figure size 432x288 with 1 Axes>"
      ]
     },
     "metadata": {
      "needs_background": "light"
     },
     "output_type": "display_data"
    }
   ],
   "source": [
    "# Because Hispanic or Latino/a group were among the highest so i wanted to compare the cumulative cases with some of the other races\n",
    "hisp_df = df[df.race == \"Hispanic or Latino/a, all races\"]\n",
    "hisp_df.plot(x = \"Specimen Collection Date\", y = \"Cumulative Cases\", color = \"brown\")\n",
    "plt.xlabel(\"Date\")\n",
    "plt.ylabel(\"Culmulative Cases\")\n",
    "plt.title(\"Hispanic group\")\n",
    "plt.gca().spines['right'].set_visible(False)\n",
    "plt.gca().spines['top'].set_visible(False)\n",
    "\n",
    "hisp_df = df[df.race == \"Asian\"]\n",
    "hisp_df.plot(x = \"Specimen Collection Date\", y = \"Cumulative Cases\", color = \"purple\")\n",
    "plt.xlabel(\"Date\")\n",
    "plt.ylabel(\"Culmulative Cases\")\n",
    "plt.title(\"Asian group\")\n",
    "plt.gca().spines['right'].set_visible(False)\n",
    "plt.gca().spines['top'].set_visible(False)\n",
    "\n",
    "hisp_df = df[df.race == \"Black or African American\"]\n",
    "hisp_df.plot(x = \"Specimen Collection Date\", y = \"Cumulative Cases\", color = \"green\")\n",
    "plt.xlabel(\"Date\")\n",
    "plt.ylabel(\"Culmulative Cases\")\n",
    "plt.title(\"Black or African American group\")\n",
    "plt.gca().spines['right'].set_visible(False)\n",
    "plt.gca().spines['top'].set_visible(False)\n",
    "\n",
    "hisp_df = df[df.race == \"White\"]\n",
    "hisp_df.plot(x = \"Specimen Collection Date\", y = \"Cumulative Cases\", color = \"pink\")\n",
    "plt.xlabel(\"Date\")\n",
    "plt.ylabel(\"Culmulative Cases\")\n",
    "plt.title(\"White\")\n",
    "plt.gca().spines['right'].set_visible(False)\n",
    "plt.gca().spines['top'].set_visible(False)"
   ]
  },
  {
   "cell_type": "markdown",
   "id": "a6a9c12c",
   "metadata": {},
   "source": [
    "### Insight\n",
    "* Similarly across most racial or ethnic groups, there is a drastic increase in cumulative COVID-19 cases as presented by the steep slope between October of 2020 - Januarary of 2021\n",
    "* The curve is then flattened in the transition to Spring and looks like it is about to soar again during the Summer in July. This is apparent across all racial or ethnic groups\n",
    "* By the y axis, the Hispanic and White groups were among the highest cumulative cases at the time the data was last updated, reaching a high of 10,000+ cases, compared to Black or African American and Asian groups' cumulative cases"
   ]
  },
  {
   "cell_type": "markdown",
   "id": "54fe30c8",
   "metadata": {},
   "source": [
    "# Running Linear and Logistic Regression models to Understand"
   ]
  },
  {
   "cell_type": "code",
   "execution_count": 296,
   "id": "9e0d3ee9",
   "metadata": {},
   "outputs": [],
   "source": [
    "import statsmodels.formula.api as smf"
   ]
  },
  {
   "cell_type": "code",
   "execution_count": 249,
   "id": "113ee51a",
   "metadata": {},
   "outputs": [],
   "source": [
    "# Data Cleaning\n",
    "r_df = data[data[\"Characteristic Type\"] == \"Race/Ethnicity\"]\n",
    "r_df = r_df.rename(columns={'Characteristic Group': 'race', 'Cumulative Cases': 'total'}, index={'ONE': 'Row_1'})\n",
    "r_df = r_df[(r_df[\"race\"] != \"Unknown\") & (r_df[\"race\"] != \"Other\") & (r_df[\"race\"] != \"Multi-racial\")]"
   ]
  },
  {
   "cell_type": "code",
   "execution_count": 250,
   "id": "64d6cfeb",
   "metadata": {
    "scrolled": false
   },
   "outputs": [
    {
     "data": {
      "text/plain": [
       "array(['Asian', 'Black or African American',\n",
       "       'Hispanic or Latino/a, all races', 'Native American',\n",
       "       'Native Hawaiian or Other Pacific Islander', 'White'], dtype=object)"
      ]
     },
     "execution_count": 250,
     "metadata": {},
     "output_type": "execute_result"
    }
   ],
   "source": [
    "r_df[\"race\"].unique()"
   ]
  },
  {
   "cell_type": "code",
   "execution_count": 252,
   "id": "31cfc647",
   "metadata": {},
   "outputs": [
    {
     "data": {
      "text/html": [
       "<div>\n",
       "<style scoped>\n",
       "    .dataframe tbody tr th:only-of-type {\n",
       "        vertical-align: middle;\n",
       "    }\n",
       "\n",
       "    .dataframe tbody tr th {\n",
       "        vertical-align: top;\n",
       "    }\n",
       "\n",
       "    .dataframe thead th {\n",
       "        text-align: right;\n",
       "    }\n",
       "</style>\n",
       "<table border=\"1\" class=\"dataframe\">\n",
       "  <thead>\n",
       "    <tr style=\"text-align: right;\">\n",
       "      <th></th>\n",
       "      <th>Specimen Collection Date</th>\n",
       "      <th>Characteristic Type</th>\n",
       "      <th>race</th>\n",
       "      <th>Characteristic Group Sort Order</th>\n",
       "      <th>New Cases</th>\n",
       "      <th>total</th>\n",
       "      <th>Population Estimate</th>\n",
       "      <th>Data As Of</th>\n",
       "      <th>Data Loaded At</th>\n",
       "    </tr>\n",
       "  </thead>\n",
       "  <tbody>\n",
       "    <tr>\n",
       "      <th>25</th>\n",
       "      <td>03/03/2020 12:00:00 AM</td>\n",
       "      <td>Race/Ethnicity</td>\n",
       "      <td>Asian</td>\n",
       "      <td>1</td>\n",
       "      <td>NaN</td>\n",
       "      <td>NaN</td>\n",
       "      <td>298108.0</td>\n",
       "      <td>08/10/2021 04:30:02 PM</td>\n",
       "      <td>08/11/2021 09:01:49 AM</td>\n",
       "    </tr>\n",
       "    <tr>\n",
       "      <th>26</th>\n",
       "      <td>03/03/2020 12:00:00 AM</td>\n",
       "      <td>Race/Ethnicity</td>\n",
       "      <td>Black or African American</td>\n",
       "      <td>2</td>\n",
       "      <td>NaN</td>\n",
       "      <td>NaN</td>\n",
       "      <td>43782.0</td>\n",
       "      <td>08/10/2021 04:30:02 PM</td>\n",
       "      <td>08/11/2021 09:01:52 AM</td>\n",
       "    </tr>\n",
       "    <tr>\n",
       "      <th>27</th>\n",
       "      <td>03/03/2020 12:00:00 AM</td>\n",
       "      <td>Race/Ethnicity</td>\n",
       "      <td>Hispanic or Latino/a, all races</td>\n",
       "      <td>3</td>\n",
       "      <td>NaN</td>\n",
       "      <td>NaN</td>\n",
       "      <td>133314.0</td>\n",
       "      <td>08/10/2021 04:30:02 PM</td>\n",
       "      <td>08/11/2021 09:01:51 AM</td>\n",
       "    </tr>\n",
       "  </tbody>\n",
       "</table>\n",
       "</div>"
      ],
      "text/plain": [
       "   Specimen Collection Date Characteristic Type  \\\n",
       "25   03/03/2020 12:00:00 AM      Race/Ethnicity   \n",
       "26   03/03/2020 12:00:00 AM      Race/Ethnicity   \n",
       "27   03/03/2020 12:00:00 AM      Race/Ethnicity   \n",
       "\n",
       "                               race  Characteristic Group Sort Order  \\\n",
       "25                            Asian                                1   \n",
       "26        Black or African American                                2   \n",
       "27  Hispanic or Latino/a, all races                                3   \n",
       "\n",
       "    New Cases  total  Population Estimate              Data As Of  \\\n",
       "25        NaN    NaN             298108.0  08/10/2021 04:30:02 PM   \n",
       "26        NaN    NaN              43782.0  08/10/2021 04:30:02 PM   \n",
       "27        NaN    NaN             133314.0  08/10/2021 04:30:02 PM   \n",
       "\n",
       "            Data Loaded At  \n",
       "25  08/11/2021 09:01:49 AM  \n",
       "26  08/11/2021 09:01:52 AM  \n",
       "27  08/11/2021 09:01:51 AM  "
      ]
     },
     "execution_count": 252,
     "metadata": {},
     "output_type": "execute_result"
    }
   ],
   "source": [
    "r_df.head(3)"
   ]
  },
  {
   "cell_type": "code",
   "execution_count": 255,
   "id": "76e744f0",
   "metadata": {
    "scrolled": true
   },
   "outputs": [
    {
     "data": {
      "text/html": [
       "<table class=\"simpletable\">\n",
       "<caption>OLS Regression Results</caption>\n",
       "<tr>\n",
       "  <th>Dep. Variable:</th>          <td>total</td>      <th>  R-squared:         </th> <td>   0.478</td> \n",
       "</tr>\n",
       "<tr>\n",
       "  <th>Model:</th>                   <td>OLS</td>       <th>  Adj. R-squared:    </th> <td>   0.477</td> \n",
       "</tr>\n",
       "<tr>\n",
       "  <th>Method:</th>             <td>Least Squares</td>  <th>  F-statistic:       </th> <td>   549.9</td> \n",
       "</tr>\n",
       "<tr>\n",
       "  <th>Date:</th>             <td>Wed, 11 Aug 2021</td> <th>  Prob (F-statistic):</th>  <td>  0.00</td>  \n",
       "</tr>\n",
       "<tr>\n",
       "  <th>Time:</th>                 <td>17:22:20</td>     <th>  Log-Likelihood:    </th> <td> -28399.</td> \n",
       "</tr>\n",
       "<tr>\n",
       "  <th>No. Observations:</th>      <td>  3013</td>      <th>  AIC:               </th> <td>5.681e+04</td>\n",
       "</tr>\n",
       "<tr>\n",
       "  <th>Df Residuals:</th>          <td>  3007</td>      <th>  BIC:               </th> <td>5.685e+04</td>\n",
       "</tr>\n",
       "<tr>\n",
       "  <th>Df Model:</th>              <td>     5</td>      <th>                     </th>     <td> </td>    \n",
       "</tr>\n",
       "<tr>\n",
       "  <th>Covariance Type:</th>      <td>nonrobust</td>    <th>                     </th>     <td> </td>    \n",
       "</tr>\n",
       "</table>\n",
       "<table class=\"simpletable\">\n",
       "<tr>\n",
       "                            <td></td>                              <th>coef</th>     <th>std err</th>      <th>t</th>      <th>P>|t|</th>  <th>[0.025</th>    <th>0.975]</th>  \n",
       "</tr>\n",
       "<tr>\n",
       "  <th>Intercept</th>                                            <td> 3311.0781</td> <td>  132.741</td> <td>   24.944</td> <td> 0.000</td> <td> 3050.805</td> <td> 3571.351</td>\n",
       "</tr>\n",
       "<tr>\n",
       "  <th>C(race)[T.Black or African American]</th>                 <td>-2111.0367</td> <td>  188.187</td> <td>  -11.218</td> <td> 0.000</td> <td>-2480.024</td> <td>-1742.049</td>\n",
       "</tr>\n",
       "<tr>\n",
       "  <th>C(race)[T.Hispanic or Latino/a, all races]</th>           <td> 4989.0526</td> <td>  187.001</td> <td>   26.679</td> <td> 0.000</td> <td> 4622.390</td> <td> 5355.715</td>\n",
       "</tr>\n",
       "<tr>\n",
       "  <th>C(race)[T.Native American]</th>                           <td>-3246.0227</td> <td>  191.979</td> <td>  -16.908</td> <td> 0.000</td> <td>-3622.446</td> <td>-2869.599</td>\n",
       "</tr>\n",
       "<tr>\n",
       "  <th>C(race)[T.Native Hawaiian or Other Pacific Islander]</th> <td>-3060.1836</td> <td>  189.524</td> <td>  -16.147</td> <td> 0.000</td> <td>-3431.794</td> <td>-2688.573</td>\n",
       "</tr>\n",
       "<tr>\n",
       "  <th>C(race)[T.White]</th>                                     <td>  894.1484</td> <td>  187.724</td> <td>    4.763</td> <td> 0.000</td> <td>  526.067</td> <td> 1262.230</td>\n",
       "</tr>\n",
       "</table>\n",
       "<table class=\"simpletable\">\n",
       "<tr>\n",
       "  <th>Omnibus:</th>       <td>35.969</td> <th>  Durbin-Watson:     </th> <td>   1.244</td>\n",
       "</tr>\n",
       "<tr>\n",
       "  <th>Prob(Omnibus):</th> <td> 0.000</td> <th>  Jarque-Bera (JB):  </th> <td>  61.705</td>\n",
       "</tr>\n",
       "<tr>\n",
       "  <th>Skew:</th>          <td> 0.022</td> <th>  Prob(JB):          </th> <td>3.99e-14</td>\n",
       "</tr>\n",
       "<tr>\n",
       "  <th>Kurtosis:</th>      <td> 3.700</td> <th>  Cond. No.          </th> <td>    6.80</td>\n",
       "</tr>\n",
       "</table><br/><br/>Notes:<br/>[1] Standard Errors assume that the covariance matrix of the errors is correctly specified."
      ],
      "text/plain": [
       "<class 'statsmodels.iolib.summary.Summary'>\n",
       "\"\"\"\n",
       "                            OLS Regression Results                            \n",
       "==============================================================================\n",
       "Dep. Variable:                  total   R-squared:                       0.478\n",
       "Model:                            OLS   Adj. R-squared:                  0.477\n",
       "Method:                 Least Squares   F-statistic:                     549.9\n",
       "Date:                Wed, 11 Aug 2021   Prob (F-statistic):               0.00\n",
       "Time:                        17:22:20   Log-Likelihood:                -28399.\n",
       "No. Observations:                3013   AIC:                         5.681e+04\n",
       "Df Residuals:                    3007   BIC:                         5.685e+04\n",
       "Df Model:                           5                                         \n",
       "Covariance Type:            nonrobust                                         \n",
       "========================================================================================================================\n",
       "                                                           coef    std err          t      P>|t|      [0.025      0.975]\n",
       "------------------------------------------------------------------------------------------------------------------------\n",
       "Intercept                                             3311.0781    132.741     24.944      0.000    3050.805    3571.351\n",
       "C(race)[T.Black or African American]                 -2111.0367    188.187    -11.218      0.000   -2480.024   -1742.049\n",
       "C(race)[T.Hispanic or Latino/a, all races]            4989.0526    187.001     26.679      0.000    4622.390    5355.715\n",
       "C(race)[T.Native American]                           -3246.0227    191.979    -16.908      0.000   -3622.446   -2869.599\n",
       "C(race)[T.Native Hawaiian or Other Pacific Islander] -3060.1836    189.524    -16.147      0.000   -3431.794   -2688.573\n",
       "C(race)[T.White]                                       894.1484    187.724      4.763      0.000     526.067    1262.230\n",
       "==============================================================================\n",
       "Omnibus:                       35.969   Durbin-Watson:                   1.244\n",
       "Prob(Omnibus):                  0.000   Jarque-Bera (JB):               61.705\n",
       "Skew:                           0.022   Prob(JB):                     3.99e-14\n",
       "Kurtosis:                       3.700   Cond. No.                         6.80\n",
       "==============================================================================\n",
       "\n",
       "Notes:\n",
       "[1] Standard Errors assume that the covariance matrix of the errors is correctly specified.\n",
       "\"\"\""
      ]
     },
     "execution_count": 255,
     "metadata": {},
     "output_type": "execute_result"
    }
   ],
   "source": [
    "# Linear model\n",
    "m = smf.ols(\"total ~ C(race)\", data= r_df).fit() # C because race is categorical not numeric\n",
    "m.summary()"
   ]
  },
  {
   "cell_type": "markdown",
   "id": "2a9f0f5a",
   "metadata": {},
   "source": [
    "### Observation\n",
    "* From a linear regression model, the intercept of the total culmulative cases is at 3,311 cases.\n",
    "* The **increase** in cumulative cases with the Hispanic or Latino ethinic/ racial group is 4,989 cases, whereas with the Caucasian/ white ethinic/ racial group there is only 894 cases.\n",
    "* The **decrease** in cumulative cases with the African American/ Black ethnic/ racial group is about 2,111 cases, the Native American group is about 3,246 cases, and the Native Hawaiian or Other Pacific islander is about 3060 cases.\n",
    "* The R-squared is about 0.478 which means that this model is not a perfect fit model with the size of the data, but good enough for this demonstration"
   ]
  },
  {
   "cell_type": "code",
   "execution_count": 256,
   "id": "e4e3b105",
   "metadata": {},
   "outputs": [
    {
     "data": {
      "text/html": [
       "<table class=\"simpletable\">\n",
       "<caption>OLS Regression Results</caption>\n",
       "<tr>\n",
       "  <th>Dep. Variable:</th>      <td>np.log(total)</td>  <th>  R-squared:         </th> <td>   0.594</td> \n",
       "</tr>\n",
       "<tr>\n",
       "  <th>Model:</th>                   <td>OLS</td>       <th>  Adj. R-squared:    </th> <td>   0.593</td> \n",
       "</tr>\n",
       "<tr>\n",
       "  <th>Method:</th>             <td>Least Squares</td>  <th>  F-statistic:       </th> <td>   879.3</td> \n",
       "</tr>\n",
       "<tr>\n",
       "  <th>Date:</th>             <td>Wed, 11 Aug 2021</td> <th>  Prob (F-statistic):</th>  <td>  0.00</td>  \n",
       "</tr>\n",
       "<tr>\n",
       "  <th>Time:</th>                 <td>17:35:55</td>     <th>  Log-Likelihood:    </th> <td> -5033.6</td> \n",
       "</tr>\n",
       "<tr>\n",
       "  <th>No. Observations:</th>      <td>  3013</td>      <th>  AIC:               </th> <td>1.008e+04</td>\n",
       "</tr>\n",
       "<tr>\n",
       "  <th>Df Residuals:</th>          <td>  3007</td>      <th>  BIC:               </th> <td>1.012e+04</td>\n",
       "</tr>\n",
       "<tr>\n",
       "  <th>Df Model:</th>              <td>     5</td>      <th>                     </th>     <td> </td>    \n",
       "</tr>\n",
       "<tr>\n",
       "  <th>Covariance Type:</th>      <td>nonrobust</td>    <th>                     </th>     <td> </td>    \n",
       "</tr>\n",
       "</table>\n",
       "<table class=\"simpletable\">\n",
       "<tr>\n",
       "                            <td></td>                              <th>coef</th>     <th>std err</th>      <th>t</th>      <th>P>|t|</th>  <th>[0.025</th>    <th>0.975]</th>  \n",
       "</tr>\n",
       "<tr>\n",
       "  <th>Intercept</th>                                            <td>    7.4544</td> <td>    0.057</td> <td>  131.013</td> <td> 0.000</td> <td>    7.343</td> <td>    7.566</td>\n",
       "</tr>\n",
       "<tr>\n",
       "  <th>C(race)[T.Black or African American]</th>                 <td>   -0.8904</td> <td>    0.081</td> <td>  -11.038</td> <td> 0.000</td> <td>   -1.049</td> <td>   -0.732</td>\n",
       "</tr>\n",
       "<tr>\n",
       "  <th>C(race)[T.Hispanic or Latino/a, all races]</th>           <td>    0.9735</td> <td>    0.080</td> <td>   12.145</td> <td> 0.000</td> <td>    0.816</td> <td>    1.131</td>\n",
       "</tr>\n",
       "<tr>\n",
       "  <th>C(race)[T.Native American]</th>                           <td>   -3.5501</td> <td>    0.082</td> <td>  -43.141</td> <td> 0.000</td> <td>   -3.711</td> <td>   -3.389</td>\n",
       "</tr>\n",
       "<tr>\n",
       "  <th>C(race)[T.Native Hawaiian or Other Pacific Islander]</th> <td>   -2.3498</td> <td>    0.081</td> <td>  -28.925</td> <td> 0.000</td> <td>   -2.509</td> <td>   -2.191</td>\n",
       "</tr>\n",
       "<tr>\n",
       "  <th>C(race)[T.White]</th>                                     <td>    0.2859</td> <td>    0.080</td> <td>    3.553</td> <td> 0.000</td> <td>    0.128</td> <td>    0.444</td>\n",
       "</tr>\n",
       "</table>\n",
       "<table class=\"simpletable\">\n",
       "<tr>\n",
       "  <th>Omnibus:</th>       <td>667.898</td> <th>  Durbin-Watson:     </th> <td>   0.042</td> \n",
       "</tr>\n",
       "<tr>\n",
       "  <th>Prob(Omnibus):</th> <td> 0.000</td>  <th>  Jarque-Bera (JB):  </th> <td>1377.647</td> \n",
       "</tr>\n",
       "<tr>\n",
       "  <th>Skew:</th>          <td>-1.295</td>  <th>  Prob(JB):          </th> <td>7.04e-300</td>\n",
       "</tr>\n",
       "<tr>\n",
       "  <th>Kurtosis:</th>      <td> 5.064</td>  <th>  Cond. No.          </th> <td>    6.80</td> \n",
       "</tr>\n",
       "</table><br/><br/>Notes:<br/>[1] Standard Errors assume that the covariance matrix of the errors is correctly specified."
      ],
      "text/plain": [
       "<class 'statsmodels.iolib.summary.Summary'>\n",
       "\"\"\"\n",
       "                            OLS Regression Results                            \n",
       "==============================================================================\n",
       "Dep. Variable:          np.log(total)   R-squared:                       0.594\n",
       "Model:                            OLS   Adj. R-squared:                  0.593\n",
       "Method:                 Least Squares   F-statistic:                     879.3\n",
       "Date:                Wed, 11 Aug 2021   Prob (F-statistic):               0.00\n",
       "Time:                        17:35:55   Log-Likelihood:                -5033.6\n",
       "No. Observations:                3013   AIC:                         1.008e+04\n",
       "Df Residuals:                    3007   BIC:                         1.012e+04\n",
       "Df Model:                           5                                         \n",
       "Covariance Type:            nonrobust                                         \n",
       "========================================================================================================================\n",
       "                                                           coef    std err          t      P>|t|      [0.025      0.975]\n",
       "------------------------------------------------------------------------------------------------------------------------\n",
       "Intercept                                                7.4544      0.057    131.013      0.000       7.343       7.566\n",
       "C(race)[T.Black or African American]                    -0.8904      0.081    -11.038      0.000      -1.049      -0.732\n",
       "C(race)[T.Hispanic or Latino/a, all races]               0.9735      0.080     12.145      0.000       0.816       1.131\n",
       "C(race)[T.Native American]                              -3.5501      0.082    -43.141      0.000      -3.711      -3.389\n",
       "C(race)[T.Native Hawaiian or Other Pacific Islander]    -2.3498      0.081    -28.925      0.000      -2.509      -2.191\n",
       "C(race)[T.White]                                         0.2859      0.080      3.553      0.000       0.128       0.444\n",
       "==============================================================================\n",
       "Omnibus:                      667.898   Durbin-Watson:                   0.042\n",
       "Prob(Omnibus):                  0.000   Jarque-Bera (JB):             1377.647\n",
       "Skew:                          -1.295   Prob(JB):                    7.04e-300\n",
       "Kurtosis:                       5.064   Cond. No.                         6.80\n",
       "==============================================================================\n",
       "\n",
       "Notes:\n",
       "[1] Standard Errors assume that the covariance matrix of the errors is correctly specified.\n",
       "\"\"\""
      ]
     },
     "execution_count": 256,
     "metadata": {},
     "output_type": "execute_result"
    }
   ],
   "source": [
    "m = smf.ols(\"np.log(total) ~ C(race)\", data= r_df).fit()\n",
    "m.summary()"
   ]
  },
  {
   "cell_type": "markdown",
   "id": "6c5f7aaf",
   "metadata": {},
   "source": [
    "* The significance of the intercept is not too large for the logistic regression model.\n",
    "* The presence of cumulative cases will **go down** by ~.89% within the Black or African American ethnic/ racial group\n",
    "* The presence of cumulative cases will **go down** by ~3.55% within the Native American ethnic/ racial group\n",
    "* The presence of cumulative cases will **go down** by ~2.35% within the Native Hawaiian or Pacific Islander ethnic/ racial group\n",
    "* The presence of cumulative cases will **go up** by ~.97% within the Hispanic/ Latino/a ethnic/ racial group\n",
    "* The presence of cumulative cases will **go up** by ~.29% within the white or Caucasian ethnic/ racial group"
   ]
  },
  {
   "cell_type": "markdown",
   "id": "f7f62715",
   "metadata": {},
   "source": [
    "## Analyzing Other Characteristic groups using different models"
   ]
  },
  {
   "cell_type": "code",
   "execution_count": 217,
   "id": "32c0ce77",
   "metadata": {},
   "outputs": [],
   "source": [
    "import statsmodels.formula.api as smf"
   ]
  },
  {
   "cell_type": "code",
   "execution_count": 204,
   "id": "17325103",
   "metadata": {
    "scrolled": true
   },
   "outputs": [
    {
     "data": {
      "text/plain": [
       "array(['Age Group', 'Comorbidities', 'Gender', 'Homelessness',\n",
       "       'Race/Ethnicity', 'Sexual Orientation',\n",
       "       'Single Room Occupancy Tenancy',\n",
       "       'Skilled Nursing Facility Occupancy', 'Transmission Type'],\n",
       "      dtype=object)"
      ]
     },
     "execution_count": 204,
     "metadata": {},
     "output_type": "execute_result"
    }
   ],
   "source": [
    "data[\"Characteristic Type\"].unique()"
   ]
  },
  {
   "cell_type": "code",
   "execution_count": 210,
   "id": "caf707db",
   "metadata": {},
   "outputs": [
    {
     "name": "stdout",
     "output_type": "stream",
     "text": [
      "(7308, 9)\n"
     ]
    },
    {
     "data": {
      "text/html": [
       "<div>\n",
       "<style scoped>\n",
       "    .dataframe tbody tr th:only-of-type {\n",
       "        vertical-align: middle;\n",
       "    }\n",
       "\n",
       "    .dataframe tbody tr th {\n",
       "        vertical-align: top;\n",
       "    }\n",
       "\n",
       "    .dataframe thead th {\n",
       "        text-align: right;\n",
       "    }\n",
       "</style>\n",
       "<table border=\"1\" class=\"dataframe\">\n",
       "  <thead>\n",
       "    <tr style=\"text-align: right;\">\n",
       "      <th></th>\n",
       "      <th>Specimen Collection Date</th>\n",
       "      <th>Characteristic Type</th>\n",
       "      <th>Characteristic Group</th>\n",
       "      <th>Characteristic Group Sort Order</th>\n",
       "      <th>New Cases</th>\n",
       "      <th>Cumulative Cases</th>\n",
       "      <th>Population Estimate</th>\n",
       "      <th>Data As Of</th>\n",
       "      <th>Data Loaded At</th>\n",
       "    </tr>\n",
       "  </thead>\n",
       "  <tbody>\n",
       "    <tr>\n",
       "      <th>0</th>\n",
       "      <td>03/03/2020 12:00:00 AM</td>\n",
       "      <td>Age Group</td>\n",
       "      <td>0-4</td>\n",
       "      <td>1</td>\n",
       "      <td>NaN</td>\n",
       "      <td>NaN</td>\n",
       "      <td>39353.0</td>\n",
       "      <td>08/10/2021 04:30:02 PM</td>\n",
       "      <td>08/11/2021 09:01:36 AM</td>\n",
       "    </tr>\n",
       "    <tr>\n",
       "      <th>1</th>\n",
       "      <td>03/03/2020 12:00:00 AM</td>\n",
       "      <td>Age Group</td>\n",
       "      <td>5-10</td>\n",
       "      <td>2</td>\n",
       "      <td>NaN</td>\n",
       "      <td>NaN</td>\n",
       "      <td>38089.0</td>\n",
       "      <td>08/10/2021 04:30:02 PM</td>\n",
       "      <td>08/11/2021 09:01:38 AM</td>\n",
       "    </tr>\n",
       "    <tr>\n",
       "      <th>2</th>\n",
       "      <td>03/03/2020 12:00:00 AM</td>\n",
       "      <td>Age Group</td>\n",
       "      <td>11-13</td>\n",
       "      <td>3</td>\n",
       "      <td>NaN</td>\n",
       "      <td>NaN</td>\n",
       "      <td>17896.0</td>\n",
       "      <td>08/10/2021 04:30:02 PM</td>\n",
       "      <td>08/11/2021 09:01:36 AM</td>\n",
       "    </tr>\n",
       "    <tr>\n",
       "      <th>3</th>\n",
       "      <td>03/03/2020 12:00:00 AM</td>\n",
       "      <td>Age Group</td>\n",
       "      <td>14-17</td>\n",
       "      <td>4</td>\n",
       "      <td>NaN</td>\n",
       "      <td>NaN</td>\n",
       "      <td>22832.0</td>\n",
       "      <td>08/10/2021 04:30:02 PM</td>\n",
       "      <td>08/11/2021 09:01:36 AM</td>\n",
       "    </tr>\n",
       "    <tr>\n",
       "      <th>4</th>\n",
       "      <td>03/03/2020 12:00:00 AM</td>\n",
       "      <td>Age Group</td>\n",
       "      <td>18-20</td>\n",
       "      <td>5</td>\n",
       "      <td>NaN</td>\n",
       "      <td>NaN</td>\n",
       "      <td>20407.0</td>\n",
       "      <td>08/10/2021 04:30:02 PM</td>\n",
       "      <td>08/11/2021 09:01:36 AM</td>\n",
       "    </tr>\n",
       "  </tbody>\n",
       "</table>\n",
       "</div>"
      ],
      "text/plain": [
       "  Specimen Collection Date Characteristic Type Characteristic Group  \\\n",
       "0   03/03/2020 12:00:00 AM           Age Group                  0-4   \n",
       "1   03/03/2020 12:00:00 AM           Age Group                 5-10   \n",
       "2   03/03/2020 12:00:00 AM           Age Group                11-13   \n",
       "3   03/03/2020 12:00:00 AM           Age Group                14-17   \n",
       "4   03/03/2020 12:00:00 AM           Age Group                18-20   \n",
       "\n",
       "   Characteristic Group Sort Order  New Cases  Cumulative Cases  \\\n",
       "0                                1        NaN               NaN   \n",
       "1                                2        NaN               NaN   \n",
       "2                                3        NaN               NaN   \n",
       "3                                4        NaN               NaN   \n",
       "4                                5        NaN               NaN   \n",
       "\n",
       "   Population Estimate              Data As Of          Data Loaded At  \n",
       "0              39353.0  08/10/2021 04:30:02 PM  08/11/2021 09:01:36 AM  \n",
       "1              38089.0  08/10/2021 04:30:02 PM  08/11/2021 09:01:38 AM  \n",
       "2              17896.0  08/10/2021 04:30:02 PM  08/11/2021 09:01:36 AM  \n",
       "3              22832.0  08/10/2021 04:30:02 PM  08/11/2021 09:01:36 AM  \n",
       "4              20407.0  08/10/2021 04:30:02 PM  08/11/2021 09:01:36 AM  "
      ]
     },
     "execution_count": 210,
     "metadata": {},
     "output_type": "execute_result"
    }
   ],
   "source": [
    "age_df = data[data[\"Characteristic Type\"] == \"Age Group\"]\n",
    "print(age_df.shape)\n",
    "age_df.head()"
   ]
  },
  {
   "cell_type": "code",
   "execution_count": 230,
   "id": "8a379f46",
   "metadata": {},
   "outputs": [],
   "source": [
    "age_df = age_df.rename(columns={'Characteristic Group': 'ages', 'Cumulative Cases': 'total'}, index={'ONE': 'Row_1'})"
   ]
  },
  {
   "cell_type": "code",
   "execution_count": 232,
   "id": "5b20221c",
   "metadata": {},
   "outputs": [
    {
     "name": "stdout",
     "output_type": "stream",
     "text": [
      "['40-49' '30-39' '50-59' '25-29' '21-24' '70-79' '60-69' '80+' '18-20'\n",
      " '0-4' '14-17' '5-10' '11-13']\n"
     ]
    }
   ],
   "source": [
    "# Got rid of Unkown data rows and Na in Cumulative cases\n",
    "df = age_df[age_df[\"ages\"] != \"Unknown\"]\n",
    "df = df[df[\"total\"].notnull()]\n",
    "print(df[\"ages\"].unique())"
   ]
  },
  {
   "cell_type": "code",
   "execution_count": 234,
   "id": "dc524b88",
   "metadata": {},
   "outputs": [
    {
     "data": {
      "text/html": [
       "<table class=\"simpletable\">\n",
       "<caption>OLS Regression Results</caption>\n",
       "<tr>\n",
       "  <th>Dep. Variable:</th>          <td>total</td>      <th>  R-squared:         </th> <td>   0.414</td> \n",
       "</tr>\n",
       "<tr>\n",
       "  <th>Model:</th>                   <td>OLS</td>       <th>  Adj. R-squared:    </th> <td>   0.413</td> \n",
       "</tr>\n",
       "<tr>\n",
       "  <th>Method:</th>             <td>Least Squares</td>  <th>  F-statistic:       </th> <td>   383.2</td> \n",
       "</tr>\n",
       "<tr>\n",
       "  <th>Date:</th>             <td>Wed, 11 Aug 2021</td> <th>  Prob (F-statistic):</th>  <td>  0.00</td>  \n",
       "</tr>\n",
       "<tr>\n",
       "  <th>Time:</th>                 <td>17:06:21</td>     <th>  Log-Likelihood:    </th> <td> -56501.</td> \n",
       "</tr>\n",
       "<tr>\n",
       "  <th>No. Observations:</th>      <td>  6515</td>      <th>  AIC:               </th> <td>1.130e+05</td>\n",
       "</tr>\n",
       "<tr>\n",
       "  <th>Df Residuals:</th>          <td>  6502</td>      <th>  BIC:               </th> <td>1.131e+05</td>\n",
       "</tr>\n",
       "<tr>\n",
       "  <th>Df Model:</th>              <td>    12</td>      <th>                     </th>     <td> </td>    \n",
       "</tr>\n",
       "<tr>\n",
       "  <th>Covariance Type:</th>      <td>nonrobust</td>    <th>                     </th>     <td> </td>    \n",
       "</tr>\n",
       "</table>\n",
       "<table class=\"simpletable\">\n",
       "<tr>\n",
       "          <td></td>            <th>coef</th>     <th>std err</th>      <th>t</th>      <th>P>|t|</th>  <th>[0.025</th>    <th>0.975]</th>  \n",
       "</tr>\n",
       "<tr>\n",
       "  <th>Intercept</th>        <td>  559.7125</td> <td>   64.093</td> <td>    8.733</td> <td> 0.000</td> <td>  434.070</td> <td>  685.355</td>\n",
       "</tr>\n",
       "<tr>\n",
       "  <th>C(ages)[T.11-13]</th> <td> -127.3982</td> <td>   91.260</td> <td>   -1.396</td> <td> 0.163</td> <td> -306.297</td> <td>   51.501</td>\n",
       "</tr>\n",
       "<tr>\n",
       "  <th>C(ages)[T.14-17]</th> <td>   44.4669</td> <td>   90.734</td> <td>    0.490</td> <td> 0.624</td> <td> -133.401</td> <td>  222.335</td>\n",
       "</tr>\n",
       "<tr>\n",
       "  <th>C(ages)[T.18-20]</th> <td>  158.8213</td> <td>   89.961</td> <td>    1.765</td> <td> 0.078</td> <td>  -17.531</td> <td>  335.174</td>\n",
       "</tr>\n",
       "<tr>\n",
       "  <th>C(ages)[T.21-24]</th> <td>  904.1934</td> <td>   89.613</td> <td>   10.090</td> <td> 0.000</td> <td>  728.523</td> <td> 1079.864</td>\n",
       "</tr>\n",
       "<tr>\n",
       "  <th>C(ages)[T.25-29]</th> <td> 1936.3500</td> <td>   89.527</td> <td>   21.629</td> <td> 0.000</td> <td> 1760.847</td> <td> 2111.853</td>\n",
       "</tr>\n",
       "<tr>\n",
       "  <th>C(ages)[T.30-39]</th> <td> 3973.2544</td> <td>   89.442</td> <td>   44.423</td> <td> 0.000</td> <td> 3797.918</td> <td> 4148.591</td>\n",
       "</tr>\n",
       "<tr>\n",
       "  <th>C(ages)[T.40-49]</th> <td> 2437.5283</td> <td>   89.400</td> <td>   27.265</td> <td> 0.000</td> <td> 2262.275</td> <td> 2612.782</td>\n",
       "</tr>\n",
       "<tr>\n",
       "  <th>C(ages)[T.5-10]</th>  <td>  183.7644</td> <td>   91.163</td> <td>    2.016</td> <td> 0.044</td> <td>    5.056</td> <td>  362.473</td>\n",
       "</tr>\n",
       "<tr>\n",
       "  <th>C(ages)[T.50-59]</th> <td> 1724.2777</td> <td>   89.442</td> <td>   19.278</td> <td> 0.000</td> <td> 1548.942</td> <td> 1899.614</td>\n",
       "</tr>\n",
       "<tr>\n",
       "  <th>C(ages)[T.60-69]</th> <td>  933.9260</td> <td>   89.656</td> <td>   10.417</td> <td> 0.000</td> <td>  758.171</td> <td> 1109.681</td>\n",
       "</tr>\n",
       "<tr>\n",
       "  <th>C(ages)[T.70-79]</th> <td>  217.7306</td> <td>   89.613</td> <td>    2.430</td> <td> 0.015</td> <td>   42.060</td> <td>  393.401</td>\n",
       "</tr>\n",
       "<tr>\n",
       "  <th>C(ages)[T.80+]</th>   <td>  169.4729</td> <td>   89.742</td> <td>    1.888</td> <td> 0.059</td> <td>   -6.451</td> <td>  345.397</td>\n",
       "</tr>\n",
       "</table>\n",
       "<table class=\"simpletable\">\n",
       "<tr>\n",
       "  <th>Omnibus:</th>       <td>195.750</td> <th>  Durbin-Watson:     </th> <td>   0.202</td> \n",
       "</tr>\n",
       "<tr>\n",
       "  <th>Prob(Omnibus):</th> <td> 0.000</td>  <th>  Jarque-Bera (JB):  </th> <td> 471.901</td> \n",
       "</tr>\n",
       "<tr>\n",
       "  <th>Skew:</th>          <td> 0.118</td>  <th>  Prob(JB):          </th> <td>3.37e-103</td>\n",
       "</tr>\n",
       "<tr>\n",
       "  <th>Kurtosis:</th>      <td> 4.297</td>  <th>  Cond. No.          </th> <td>    14.1</td> \n",
       "</tr>\n",
       "</table><br/><br/>Notes:<br/>[1] Standard Errors assume that the covariance matrix of the errors is correctly specified."
      ],
      "text/plain": [
       "<class 'statsmodels.iolib.summary.Summary'>\n",
       "\"\"\"\n",
       "                            OLS Regression Results                            \n",
       "==============================================================================\n",
       "Dep. Variable:                  total   R-squared:                       0.414\n",
       "Model:                            OLS   Adj. R-squared:                  0.413\n",
       "Method:                 Least Squares   F-statistic:                     383.2\n",
       "Date:                Wed, 11 Aug 2021   Prob (F-statistic):               0.00\n",
       "Time:                        17:06:21   Log-Likelihood:                -56501.\n",
       "No. Observations:                6515   AIC:                         1.130e+05\n",
       "Df Residuals:                    6502   BIC:                         1.131e+05\n",
       "Df Model:                          12                                         \n",
       "Covariance Type:            nonrobust                                         \n",
       "====================================================================================\n",
       "                       coef    std err          t      P>|t|      [0.025      0.975]\n",
       "------------------------------------------------------------------------------------\n",
       "Intercept          559.7125     64.093      8.733      0.000     434.070     685.355\n",
       "C(ages)[T.11-13]  -127.3982     91.260     -1.396      0.163    -306.297      51.501\n",
       "C(ages)[T.14-17]    44.4669     90.734      0.490      0.624    -133.401     222.335\n",
       "C(ages)[T.18-20]   158.8213     89.961      1.765      0.078     -17.531     335.174\n",
       "C(ages)[T.21-24]   904.1934     89.613     10.090      0.000     728.523    1079.864\n",
       "C(ages)[T.25-29]  1936.3500     89.527     21.629      0.000    1760.847    2111.853\n",
       "C(ages)[T.30-39]  3973.2544     89.442     44.423      0.000    3797.918    4148.591\n",
       "C(ages)[T.40-49]  2437.5283     89.400     27.265      0.000    2262.275    2612.782\n",
       "C(ages)[T.5-10]    183.7644     91.163      2.016      0.044       5.056     362.473\n",
       "C(ages)[T.50-59]  1724.2777     89.442     19.278      0.000    1548.942    1899.614\n",
       "C(ages)[T.60-69]   933.9260     89.656     10.417      0.000     758.171    1109.681\n",
       "C(ages)[T.70-79]   217.7306     89.613      2.430      0.015      42.060     393.401\n",
       "C(ages)[T.80+]     169.4729     89.742      1.888      0.059      -6.451     345.397\n",
       "==============================================================================\n",
       "Omnibus:                      195.750   Durbin-Watson:                   0.202\n",
       "Prob(Omnibus):                  0.000   Jarque-Bera (JB):              471.901\n",
       "Skew:                           0.118   Prob(JB):                    3.37e-103\n",
       "Kurtosis:                       4.297   Cond. No.                         14.1\n",
       "==============================================================================\n",
       "\n",
       "Notes:\n",
       "[1] Standard Errors assume that the covariance matrix of the errors is correctly specified.\n",
       "\"\"\""
      ]
     },
     "execution_count": 234,
     "metadata": {},
     "output_type": "execute_result"
    }
   ],
   "source": [
    "m = smf.ols(\"total ~ ages\", data= df).fit()\n",
    "m.summary()"
   ]
  },
  {
   "cell_type": "markdown",
   "id": "88bc6f04",
   "metadata": {},
   "source": [
    "### Inisght\n",
    "* The **increase** in cumulative cases with the 30-39 year old age group is 3973 cases, which is the highest compared to other age groups"
   ]
  },
  {
   "cell_type": "code",
   "execution_count": 236,
   "id": "7fc022bf",
   "metadata": {
    "scrolled": true
   },
   "outputs": [
    {
     "data": {
      "text/html": [
       "<table class=\"simpletable\">\n",
       "<caption>OLS Regression Results</caption>\n",
       "<tr>\n",
       "  <th>Dep. Variable:</th>      <td>np.log(total)</td>  <th>  R-squared:         </th> <td>   0.224</td> \n",
       "</tr>\n",
       "<tr>\n",
       "  <th>Model:</th>                   <td>OLS</td>       <th>  Adj. R-squared:    </th> <td>   0.222</td> \n",
       "</tr>\n",
       "<tr>\n",
       "  <th>Method:</th>             <td>Least Squares</td>  <th>  F-statistic:       </th> <td>   156.2</td> \n",
       "</tr>\n",
       "<tr>\n",
       "  <th>Date:</th>             <td>Wed, 11 Aug 2021</td> <th>  Prob (F-statistic):</th>  <td>  0.00</td>  \n",
       "</tr>\n",
       "<tr>\n",
       "  <th>Time:</th>                 <td>17:07:08</td>     <th>  Log-Likelihood:    </th> <td> -10997.</td> \n",
       "</tr>\n",
       "<tr>\n",
       "  <th>No. Observations:</th>      <td>  6515</td>      <th>  AIC:               </th> <td>2.202e+04</td>\n",
       "</tr>\n",
       "<tr>\n",
       "  <th>Df Residuals:</th>          <td>  6502</td>      <th>  BIC:               </th> <td>2.211e+04</td>\n",
       "</tr>\n",
       "<tr>\n",
       "  <th>Df Model:</th>              <td>    12</td>      <th>                     </th>     <td> </td>    \n",
       "</tr>\n",
       "<tr>\n",
       "  <th>Covariance Type:</th>      <td>nonrobust</td>    <th>                     </th>     <td> </td>    \n",
       "</tr>\n",
       "</table>\n",
       "<table class=\"simpletable\">\n",
       "<tr>\n",
       "          <td></td>            <th>coef</th>     <th>std err</th>      <th>t</th>      <th>P>|t|</th>  <th>[0.025</th>    <th>0.975]</th>  \n",
       "</tr>\n",
       "<tr>\n",
       "  <th>Intercept</th>        <td>    5.7202</td> <td>    0.059</td> <td>   96.370</td> <td> 0.000</td> <td>    5.604</td> <td>    5.837</td>\n",
       "</tr>\n",
       "<tr>\n",
       "  <th>C(ages)[T.11-13]</th> <td>   -0.1073</td> <td>    0.085</td> <td>   -1.270</td> <td> 0.204</td> <td>   -0.273</td> <td>    0.058</td>\n",
       "</tr>\n",
       "<tr>\n",
       "  <th>C(ages)[T.14-17]</th> <td>    0.1884</td> <td>    0.084</td> <td>    2.242</td> <td> 0.025</td> <td>    0.024</td> <td>    0.353</td>\n",
       "</tr>\n",
       "<tr>\n",
       "  <th>C(ages)[T.18-20]</th> <td>    0.3106</td> <td>    0.083</td> <td>    3.728</td> <td> 0.000</td> <td>    0.147</td> <td>    0.474</td>\n",
       "</tr>\n",
       "<tr>\n",
       "  <th>C(ages)[T.21-24]</th> <td>    0.9594</td> <td>    0.083</td> <td>   11.560</td> <td> 0.000</td> <td>    0.797</td> <td>    1.122</td>\n",
       "</tr>\n",
       "<tr>\n",
       "  <th>C(ages)[T.25-29]</th> <td>    1.4748</td> <td>    0.083</td> <td>   17.787</td> <td> 0.000</td> <td>    1.312</td> <td>    1.637</td>\n",
       "</tr>\n",
       "<tr>\n",
       "  <th>C(ages)[T.30-39]</th> <td>    2.1554</td> <td>    0.083</td> <td>   26.021</td> <td> 0.000</td> <td>    1.993</td> <td>    2.318</td>\n",
       "</tr>\n",
       "<tr>\n",
       "  <th>C(ages)[T.40-49]</th> <td>    1.7844</td> <td>    0.083</td> <td>   21.552</td> <td> 0.000</td> <td>    1.622</td> <td>    1.947</td>\n",
       "</tr>\n",
       "<tr>\n",
       "  <th>C(ages)[T.5-10]</th>  <td>    0.3933</td> <td>    0.084</td> <td>    4.659</td> <td> 0.000</td> <td>    0.228</td> <td>    0.559</td>\n",
       "</tr>\n",
       "<tr>\n",
       "  <th>C(ages)[T.50-59]</th> <td>    1.5213</td> <td>    0.083</td> <td>   18.366</td> <td> 0.000</td> <td>    1.359</td> <td>    1.684</td>\n",
       "</tr>\n",
       "<tr>\n",
       "  <th>C(ages)[T.60-69]</th> <td>    1.1160</td> <td>    0.083</td> <td>   13.441</td> <td> 0.000</td> <td>    0.953</td> <td>    1.279</td>\n",
       "</tr>\n",
       "<tr>\n",
       "  <th>C(ages)[T.70-79]</th> <td>    0.4795</td> <td>    0.083</td> <td>    5.777</td> <td> 0.000</td> <td>    0.317</td> <td>    0.642</td>\n",
       "</tr>\n",
       "<tr>\n",
       "  <th>C(ages)[T.80+]</th>   <td>    0.3988</td> <td>    0.083</td> <td>    4.799</td> <td> 0.000</td> <td>    0.236</td> <td>    0.562</td>\n",
       "</tr>\n",
       "</table>\n",
       "<table class=\"simpletable\">\n",
       "<tr>\n",
       "  <th>Omnibus:</th>       <td>1264.621</td> <th>  Durbin-Watson:     </th> <td>   0.025</td>\n",
       "</tr>\n",
       "<tr>\n",
       "  <th>Prob(Omnibus):</th>  <td> 0.000</td>  <th>  Jarque-Bera (JB):  </th> <td>2177.426</td>\n",
       "</tr>\n",
       "<tr>\n",
       "  <th>Skew:</th>           <td>-1.274</td>  <th>  Prob(JB):          </th> <td>    0.00</td>\n",
       "</tr>\n",
       "<tr>\n",
       "  <th>Kurtosis:</th>       <td> 4.237</td>  <th>  Cond. No.          </th> <td>    14.1</td>\n",
       "</tr>\n",
       "</table><br/><br/>Notes:<br/>[1] Standard Errors assume that the covariance matrix of the errors is correctly specified."
      ],
      "text/plain": [
       "<class 'statsmodels.iolib.summary.Summary'>\n",
       "\"\"\"\n",
       "                            OLS Regression Results                            \n",
       "==============================================================================\n",
       "Dep. Variable:          np.log(total)   R-squared:                       0.224\n",
       "Model:                            OLS   Adj. R-squared:                  0.222\n",
       "Method:                 Least Squares   F-statistic:                     156.2\n",
       "Date:                Wed, 11 Aug 2021   Prob (F-statistic):               0.00\n",
       "Time:                        17:07:08   Log-Likelihood:                -10997.\n",
       "No. Observations:                6515   AIC:                         2.202e+04\n",
       "Df Residuals:                    6502   BIC:                         2.211e+04\n",
       "Df Model:                          12                                         \n",
       "Covariance Type:            nonrobust                                         \n",
       "====================================================================================\n",
       "                       coef    std err          t      P>|t|      [0.025      0.975]\n",
       "------------------------------------------------------------------------------------\n",
       "Intercept            5.7202      0.059     96.370      0.000       5.604       5.837\n",
       "C(ages)[T.11-13]    -0.1073      0.085     -1.270      0.204      -0.273       0.058\n",
       "C(ages)[T.14-17]     0.1884      0.084      2.242      0.025       0.024       0.353\n",
       "C(ages)[T.18-20]     0.3106      0.083      3.728      0.000       0.147       0.474\n",
       "C(ages)[T.21-24]     0.9594      0.083     11.560      0.000       0.797       1.122\n",
       "C(ages)[T.25-29]     1.4748      0.083     17.787      0.000       1.312       1.637\n",
       "C(ages)[T.30-39]     2.1554      0.083     26.021      0.000       1.993       2.318\n",
       "C(ages)[T.40-49]     1.7844      0.083     21.552      0.000       1.622       1.947\n",
       "C(ages)[T.5-10]      0.3933      0.084      4.659      0.000       0.228       0.559\n",
       "C(ages)[T.50-59]     1.5213      0.083     18.366      0.000       1.359       1.684\n",
       "C(ages)[T.60-69]     1.1160      0.083     13.441      0.000       0.953       1.279\n",
       "C(ages)[T.70-79]     0.4795      0.083      5.777      0.000       0.317       0.642\n",
       "C(ages)[T.80+]       0.3988      0.083      4.799      0.000       0.236       0.562\n",
       "==============================================================================\n",
       "Omnibus:                     1264.621   Durbin-Watson:                   0.025\n",
       "Prob(Omnibus):                  0.000   Jarque-Bera (JB):             2177.426\n",
       "Skew:                          -1.274   Prob(JB):                         0.00\n",
       "Kurtosis:                       4.237   Cond. No.                         14.1\n",
       "==============================================================================\n",
       "\n",
       "Notes:\n",
       "[1] Standard Errors assume that the covariance matrix of the errors is correctly specified.\n",
       "\"\"\""
      ]
     },
     "execution_count": 236,
     "metadata": {},
     "output_type": "execute_result"
    }
   ],
   "source": [
    "m = smf.ols(\"np.log(total) ~ ages\", data= df).fit()\n",
    "m.summary()"
   ]
  },
  {
   "cell_type": "markdown",
   "id": "637f5305",
   "metadata": {},
   "source": [
    "### Inisght\n",
    "* With the logistic regression, the presence of cumulative cases will **go up** by ~.216% within the age group of 30-39 which is among the highest amongst the other age groups"
   ]
  }
 ],
 "metadata": {
  "kernelspec": {
   "display_name": "Python 3",
   "language": "python",
   "name": "python3"
  },
  "language_info": {
   "codemirror_mode": {
    "name": "ipython",
    "version": 3
   },
   "file_extension": ".py",
   "mimetype": "text/x-python",
   "name": "python",
   "nbconvert_exporter": "python",
   "pygments_lexer": "ipython3",
   "version": "3.8.8"
  }
 },
 "nbformat": 4,
 "nbformat_minor": 5
}
